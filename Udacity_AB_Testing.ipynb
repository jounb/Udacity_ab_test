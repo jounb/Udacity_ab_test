{
  "nbformat": 4,
  "nbformat_minor": 0,
  "metadata": {
    "colab": {
      "name": "Udacity_AB_Testing.ipynb",
      "provenance": [],
      "collapsed_sections": [],
      "toc_visible": true,
      "authorship_tag": "ABX9TyPOu0J4zFWXlM4vtOXQtE+n",
      "include_colab_link": true
    },
    "kernelspec": {
      "name": "python3",
      "display_name": "Python 3"
    },
    "language_info": {
      "name": "python"
    }
  },
  "cells": [
    {
      "cell_type": "markdown",
      "metadata": {
        "id": "view-in-github",
        "colab_type": "text"
      },
      "source": [
        "<a href=\"https://colab.research.google.com/github/jounb/udacity_ab_test/blob/main/Udacity_AB_Testing.ipynb\" target=\"_parent\"><img src=\"https://colab.research.google.com/assets/colab-badge.svg\" alt=\"Open In Colab\"/></a>"
      ]
    },
    {
      "cell_type": "markdown",
      "metadata": {
        "id": "rzAiC7NMKNDp"
      },
      "source": [
        "## Table of Contents\n",
        "\n",
        "1. [Background](https://colab.research.google.com/drive/1wK8YTt1Yc7zp1ziNEllBI_ar-eYzHUb_#scrollTo=yOzzsCdVHJOR)\n",
        "2. [Experiment Overview](https://colab.research.google.com/drive/1wK8YTt1Yc7zp1ziNEllBI_ar-eYzHUb_#scrollTo=i3cbjNUmKhsv)\n",
        "3. [Experiment Design](https://colab.research.google.com/drive/1wK8YTt1Yc7zp1ziNEllBI_ar-eYzHUb_#scrollTo=yS37kvPtkjuz)\n",
        "4. [Data Analysis](https://colab.research.google.com/drive/1wK8YTt1Yc7zp1ziNEllBI_ar-eYzHUb_#scrollTo=jPVZGBBHg7Ez&line=7&uniqifier=1)\n",
        "5. [Summary and Recommendations](https://colab.research.google.com/drive/1wK8YTt1Yc7zp1ziNEllBI_ar-eYzHUb_#scrollTo=ErZReIECCLaJ&line=16&uniqifier=1)"
      ]
    },
    {
      "cell_type": "markdown",
      "metadata": {
        "id": "yOzzsCdVHJOR"
      },
      "source": [
        "## 1. Background\n",
        "\n",
        "This experiment is used as the final project for Udacity's A/B testing course, and was an actual experiment that was run by Udacity. The specific numbers have been changed but the patterns have not. The experiment overview and resulting data are provided by Udacity.\n"
      ]
    },
    {
      "cell_type": "markdown",
      "metadata": {
        "id": "i3cbjNUmKhsv"
      },
      "source": [
        "## 2. Experiment Overview \n",
        "\n",
        "**2.1 Current State**\n",
        "\n",
        "At the time of this experiment, Udacity courses currently have two options on the course overview page: 1) \"start free trial\", and 2) \"access course materials\". \n",
        "\n",
        "* If the student clicks \"start free trial\", they are asked for their credit card information, and then enrolled in a free trial for the paid version of the course. After 14 days, they are automatically charged unless they cancel. \n",
        "\n",
        "* If the student clicks \"access course materials\", they are able to view the videos and take the quizzes for free, but they do not receive the paid benefits (e.g. coaching support, verified certificate)\n",
        "\n",
        "\n",
        "**2.2 The Experiment**\n",
        "* If the student clicks \"start free trial\", they are asked how much time they have to devote to the course. \n",
        " * If the student chooses  5 + hours per week, they are taken through the checkout process as usual. \n",
        " * If they choose < 5 hours per week, a message would say that Udacity courses usually need more time for completion, and suggest accessing the course materials for free. Then, the student would have the option to continue enrolling, or access free course instead. This [screenshot](https://drive.google.com/file/d/0ByAfiG8HpNUMakVrS0s4cGN2TjQ/view) shows what the experiment looks like."
      ]
    },
    {
      "cell_type": "markdown",
      "metadata": {
        "id": "pCjiSUMyIERn"
      },
      "source": [
        "**2.3 The Hypothesis**\n",
        "\n",
        "By setting clearer expectations for students upfront, 1) reduce the number of frustrated students who leave the free trial because they didn't have enough time. And 2) do not significantly reducing the number of students to continue past the free trial and eventually complete the course. \n",
        "\n",
        "If this hypothesis held true, Udacity could improve the overall student experience and improve coaches' capacity to support students who are likely to complete the course."
      ]
    },
    {
      "cell_type": "markdown",
      "metadata": {
        "id": "yS37kvPtkjuz"
      },
      "source": [
        "## 3. Experiment Design\n",
        "\n",
        "**3.1 Metric Choice**\n",
        "\n",
        "First, the following metrics and definitions will be used as invariant metrics for sanity checking the experiment setup. We'll check that these metrics are not affected by the experimeent.\n",
        "\n",
        "* Number of cookies: Number of unique cookies to view the course overview page. (dmin=3000)\n",
        "* Number of user-ids: Number of users who enroll in the free trial. (dmin=50)\n",
        "* Number of clicks: Number of unique cookies to click the \"Start free trial\" button (which happens before the free trial screener is trigger). (dmin=240)\n",
        "* Click-through-probability: Number of unique cookies to click the \"Start free trial\" button divided by number of unique cookies to view the course overview page. (dmin=0.01)\n",
        "\n",
        "\n",
        "The following metrics and definitions will be used as our evaluation metrics to test our hypotheses:\n",
        "* Gross conversion: # of user-ids to complete checkout and enroll in the free trial divided by # of unique cookies to click the \"Start free trial\" button. (dmin= 0.01)\n",
        "* Retention: # of user-ids to remain enrolled past the 14-day boundary (and thus make at least one payment) divided by # of user-ids to complete checkout. (dmin=0.01)\n",
        "* Net conversion: # of user-ids to remain enrolled past the 14-day boundary (and thus make at least one payment) divided by the # of unique cookies to click the \"Start free trial\" button. (dmin= 0.0075)\n",
        "\n",
        "If our hypotheses hold true, we expect:\n",
        "* Gross conversion should decrease since we expect our enrollments to decrease. \n",
        "* Retention should increase since we expect users who don't have enough time would not enroll.\n",
        "* Net conversion should not change\n",
        "\n",
        "\n",
        "The unit of diversion is a cookie, although if the student enrolls in the free trial, they are tracked by user-id from that point forward. The same user-id cannot enroll in the free trial twice. For users that do not enroll, their user-id is not tracked in the experiment, even if they were signed in when they visited the course overview page.\n",
        "\n",
        "\n",
        "\n"
      ]
    },
    {
      "cell_type": "markdown",
      "metadata": {
        "id": "zvcvP_pPn5hY"
      },
      "source": [
        "**3.2 Sample Size**\n",
        "\n",
        "Now that we have our metrics, let's compute our necessary sample size for our evaluation metrics. First we'll create a dataframe using the baseline data that Udacity provided"
      ]
    },
    {
      "cell_type": "code",
      "metadata": {
        "id": "R70ZuQfSr1Kl"
      },
      "source": [
        "import pandas as pd\n",
        "import statistics as stats\n",
        "import numpy as np\n",
        "import math\n",
        "import seaborn as sns"
      ],
      "execution_count": 44,
      "outputs": []
    },
    {
      "cell_type": "code",
      "metadata": {
        "colab": {
          "base_uri": "https://localhost:8080/",
          "height": 263
        },
        "id": "zmnWfdOwsixl",
        "outputId": "d9c1fb6f-e137-47bd-a0b6-3eeabea85c58"
      },
      "source": [
        "ab_df = pd.read_csv(\"https://raw.githubusercontent.com/jounb/udacity_ab_test/main/Udacity%20AB%20Test%20Data/Final%20Project%20Baseline%20Values.csv\")\n",
        "\n",
        "ab_df"
      ],
      "execution_count": 2,
      "outputs": [
        {
          "output_type": "execute_result",
          "data": {
            "text/html": [
              "<div>\n",
              "<style scoped>\n",
              "    .dataframe tbody tr th:only-of-type {\n",
              "        vertical-align: middle;\n",
              "    }\n",
              "\n",
              "    .dataframe tbody tr th {\n",
              "        vertical-align: top;\n",
              "    }\n",
              "\n",
              "    .dataframe thead th {\n",
              "        text-align: right;\n",
              "    }\n",
              "</style>\n",
              "<table border=\"1\" class=\"dataframe\">\n",
              "  <thead>\n",
              "    <tr style=\"text-align: right;\">\n",
              "      <th></th>\n",
              "      <th>Metric</th>\n",
              "      <th>Value</th>\n",
              "    </tr>\n",
              "  </thead>\n",
              "  <tbody>\n",
              "    <tr>\n",
              "      <th>0</th>\n",
              "      <td>Course overview page views per day (unique coo...</td>\n",
              "      <td>40000.000000</td>\n",
              "    </tr>\n",
              "    <tr>\n",
              "      <th>1</th>\n",
              "      <td>\"Start free trial\" clicks per day (unqiue cook...</td>\n",
              "      <td>3200.000000</td>\n",
              "    </tr>\n",
              "    <tr>\n",
              "      <th>2</th>\n",
              "      <td>Enrollments per day</td>\n",
              "      <td>660.000000</td>\n",
              "    </tr>\n",
              "    <tr>\n",
              "      <th>3</th>\n",
              "      <td>Click-through-probability on \"Start free trial\"</td>\n",
              "      <td>0.080000</td>\n",
              "    </tr>\n",
              "    <tr>\n",
              "      <th>4</th>\n",
              "      <td>Probability of enrolling, given click</td>\n",
              "      <td>0.206250</td>\n",
              "    </tr>\n",
              "    <tr>\n",
              "      <th>5</th>\n",
              "      <td>Probability of payment, given enroll</td>\n",
              "      <td>0.530000</td>\n",
              "    </tr>\n",
              "    <tr>\n",
              "      <th>6</th>\n",
              "      <td>Probability of payment, given click</td>\n",
              "      <td>0.109313</td>\n",
              "    </tr>\n",
              "  </tbody>\n",
              "</table>\n",
              "</div>"
            ],
            "text/plain": [
              "                                              Metric         Value\n",
              "0  Course overview page views per day (unique coo...  40000.000000\n",
              "1  \"Start free trial\" clicks per day (unqiue cook...   3200.000000\n",
              "2                                Enrollments per day    660.000000\n",
              "3    Click-through-probability on \"Start free trial\"      0.080000\n",
              "4              Probability of enrolling, given click      0.206250\n",
              "5               Probability of payment, given enroll      0.530000\n",
              "6                Probability of payment, given click      0.109313"
            ]
          },
          "metadata": {
            "tags": []
          },
          "execution_count": 2
        }
      ]
    },
    {
      "cell_type": "markdown",
      "metadata": {
        "id": "ptTuasvS6wU4"
      },
      "source": [
        "Let's add an abbreviated metric column for readability and add the dmin values as well"
      ]
    },
    {
      "cell_type": "code",
      "metadata": {
        "colab": {
          "base_uri": "https://localhost:8080/",
          "height": 294
        },
        "id": "5Y1yF3_P3u5G",
        "outputId": "923f4d7b-4644-404e-a62b-3c6fd3a3f39b"
      },
      "source": [
        "ab_df.insert(0, 'ab_metric', ['Page_views', 'Clicks', 'Enrollments', 'CTP', 'GC','Retention', 'NC'])\n",
        "\n",
        "ab_df.insert(3, 'dmin', [3000, 50, 240, 0.01, 0.01,0.01, 0.0075])\n",
        "\n",
        "ab_df.set_index('ab_metric', inplace = True)\n",
        "\n",
        "ab_df"
      ],
      "execution_count": 3,
      "outputs": [
        {
          "output_type": "execute_result",
          "data": {
            "text/html": [
              "<div>\n",
              "<style scoped>\n",
              "    .dataframe tbody tr th:only-of-type {\n",
              "        vertical-align: middle;\n",
              "    }\n",
              "\n",
              "    .dataframe tbody tr th {\n",
              "        vertical-align: top;\n",
              "    }\n",
              "\n",
              "    .dataframe thead th {\n",
              "        text-align: right;\n",
              "    }\n",
              "</style>\n",
              "<table border=\"1\" class=\"dataframe\">\n",
              "  <thead>\n",
              "    <tr style=\"text-align: right;\">\n",
              "      <th></th>\n",
              "      <th>Metric</th>\n",
              "      <th>Value</th>\n",
              "      <th>dmin</th>\n",
              "    </tr>\n",
              "    <tr>\n",
              "      <th>ab_metric</th>\n",
              "      <th></th>\n",
              "      <th></th>\n",
              "      <th></th>\n",
              "    </tr>\n",
              "  </thead>\n",
              "  <tbody>\n",
              "    <tr>\n",
              "      <th>Page_views</th>\n",
              "      <td>Course overview page views per day (unique coo...</td>\n",
              "      <td>40000.000000</td>\n",
              "      <td>3000.0000</td>\n",
              "    </tr>\n",
              "    <tr>\n",
              "      <th>Clicks</th>\n",
              "      <td>\"Start free trial\" clicks per day (unqiue cook...</td>\n",
              "      <td>3200.000000</td>\n",
              "      <td>50.0000</td>\n",
              "    </tr>\n",
              "    <tr>\n",
              "      <th>Enrollments</th>\n",
              "      <td>Enrollments per day</td>\n",
              "      <td>660.000000</td>\n",
              "      <td>240.0000</td>\n",
              "    </tr>\n",
              "    <tr>\n",
              "      <th>CTP</th>\n",
              "      <td>Click-through-probability on \"Start free trial\"</td>\n",
              "      <td>0.080000</td>\n",
              "      <td>0.0100</td>\n",
              "    </tr>\n",
              "    <tr>\n",
              "      <th>GC</th>\n",
              "      <td>Probability of enrolling, given click</td>\n",
              "      <td>0.206250</td>\n",
              "      <td>0.0100</td>\n",
              "    </tr>\n",
              "    <tr>\n",
              "      <th>Retention</th>\n",
              "      <td>Probability of payment, given enroll</td>\n",
              "      <td>0.530000</td>\n",
              "      <td>0.0100</td>\n",
              "    </tr>\n",
              "    <tr>\n",
              "      <th>NC</th>\n",
              "      <td>Probability of payment, given click</td>\n",
              "      <td>0.109313</td>\n",
              "      <td>0.0075</td>\n",
              "    </tr>\n",
              "  </tbody>\n",
              "</table>\n",
              "</div>"
            ],
            "text/plain": [
              "                                                        Metric  ...       dmin\n",
              "ab_metric                                                       ...           \n",
              "Page_views   Course overview page views per day (unique coo...  ...  3000.0000\n",
              "Clicks       \"Start free trial\" clicks per day (unqiue cook...  ...    50.0000\n",
              "Enrollments                                Enrollments per day  ...   240.0000\n",
              "CTP            Click-through-probability on \"Start free trial\"  ...     0.0100\n",
              "GC                       Probability of enrolling, given click  ...     0.0100\n",
              "Retention                 Probability of payment, given enroll  ...     0.0100\n",
              "NC                         Probability of payment, given click  ...     0.0075\n",
              "\n",
              "[7 rows x 3 columns]"
            ]
          },
          "metadata": {
            "tags": []
          },
          "execution_count": 3
        }
      ]
    },
    {
      "cell_type": "markdown",
      "metadata": {
        "id": "btXYt8Fs1bXe"
      },
      "source": [
        "For each metric, we'll calculate the sample size needed using this online calculator: https://www.evanmiller.org/ab-testing/sample-size.html and store the values in our dataframe\n"
      ]
    },
    {
      "cell_type": "code",
      "metadata": {
        "colab": {
          "base_uri": "https://localhost:8080/",
          "height": 294
        },
        "id": "h4RxfKwG69bn",
        "outputId": "ce04c874-3c5e-4eb0-dbbe-144d183fc293"
      },
      "source": [
        "#GC page view sample size\n",
        "gc_clicks = 25835\n",
        "gc_page_view = round( gc_clicks / 0.08 * 2) #clicks divided by click thru rate, x2 for test & control\n",
        "\n",
        "#Retention page view sample size\n",
        "ret_enrolls = 39115\n",
        "ret_page_view = round(ret_enrolls / (660/40000) * 2) #enrollments divided by enroll rate, x2 for test & control\n",
        "\n",
        "# NC page view sample size\n",
        "nc_clicks = 27413\n",
        "nc_page_view = round(nc_clicks / 0.08 * 2) #clicks divided by click thru rate, x2 for test & control\n",
        "\n",
        "\n",
        "sample_size = [np.nan, np.nan, np.nan, np.nan, gc_page_view, ret_page_view, nc_page_view]\n",
        "\n",
        "ab_df['sample_size'] = sample_size\n",
        "\n",
        "ab_df"
      ],
      "execution_count": 4,
      "outputs": [
        {
          "output_type": "execute_result",
          "data": {
            "text/html": [
              "<div>\n",
              "<style scoped>\n",
              "    .dataframe tbody tr th:only-of-type {\n",
              "        vertical-align: middle;\n",
              "    }\n",
              "\n",
              "    .dataframe tbody tr th {\n",
              "        vertical-align: top;\n",
              "    }\n",
              "\n",
              "    .dataframe thead th {\n",
              "        text-align: right;\n",
              "    }\n",
              "</style>\n",
              "<table border=\"1\" class=\"dataframe\">\n",
              "  <thead>\n",
              "    <tr style=\"text-align: right;\">\n",
              "      <th></th>\n",
              "      <th>Metric</th>\n",
              "      <th>Value</th>\n",
              "      <th>dmin</th>\n",
              "      <th>sample_size</th>\n",
              "    </tr>\n",
              "    <tr>\n",
              "      <th>ab_metric</th>\n",
              "      <th></th>\n",
              "      <th></th>\n",
              "      <th></th>\n",
              "      <th></th>\n",
              "    </tr>\n",
              "  </thead>\n",
              "  <tbody>\n",
              "    <tr>\n",
              "      <th>Page_views</th>\n",
              "      <td>Course overview page views per day (unique coo...</td>\n",
              "      <td>40000.000000</td>\n",
              "      <td>3000.0000</td>\n",
              "      <td>NaN</td>\n",
              "    </tr>\n",
              "    <tr>\n",
              "      <th>Clicks</th>\n",
              "      <td>\"Start free trial\" clicks per day (unqiue cook...</td>\n",
              "      <td>3200.000000</td>\n",
              "      <td>50.0000</td>\n",
              "      <td>NaN</td>\n",
              "    </tr>\n",
              "    <tr>\n",
              "      <th>Enrollments</th>\n",
              "      <td>Enrollments per day</td>\n",
              "      <td>660.000000</td>\n",
              "      <td>240.0000</td>\n",
              "      <td>NaN</td>\n",
              "    </tr>\n",
              "    <tr>\n",
              "      <th>CTP</th>\n",
              "      <td>Click-through-probability on \"Start free trial\"</td>\n",
              "      <td>0.080000</td>\n",
              "      <td>0.0100</td>\n",
              "      <td>NaN</td>\n",
              "    </tr>\n",
              "    <tr>\n",
              "      <th>GC</th>\n",
              "      <td>Probability of enrolling, given click</td>\n",
              "      <td>0.206250</td>\n",
              "      <td>0.0100</td>\n",
              "      <td>645875.0</td>\n",
              "    </tr>\n",
              "    <tr>\n",
              "      <th>Retention</th>\n",
              "      <td>Probability of payment, given enroll</td>\n",
              "      <td>0.530000</td>\n",
              "      <td>0.0100</td>\n",
              "      <td>4741212.0</td>\n",
              "    </tr>\n",
              "    <tr>\n",
              "      <th>NC</th>\n",
              "      <td>Probability of payment, given click</td>\n",
              "      <td>0.109313</td>\n",
              "      <td>0.0075</td>\n",
              "      <td>685325.0</td>\n",
              "    </tr>\n",
              "  </tbody>\n",
              "</table>\n",
              "</div>"
            ],
            "text/plain": [
              "                                                        Metric  ...  sample_size\n",
              "ab_metric                                                       ...             \n",
              "Page_views   Course overview page views per day (unique coo...  ...          NaN\n",
              "Clicks       \"Start free trial\" clicks per day (unqiue cook...  ...          NaN\n",
              "Enrollments                                Enrollments per day  ...          NaN\n",
              "CTP            Click-through-probability on \"Start free trial\"  ...          NaN\n",
              "GC                       Probability of enrolling, given click  ...     645875.0\n",
              "Retention                 Probability of payment, given enroll  ...    4741212.0\n",
              "NC                         Probability of payment, given click  ...     685325.0\n",
              "\n",
              "[7 rows x 4 columns]"
            ]
          },
          "metadata": {
            "tags": []
          },
          "execution_count": 4
        }
      ]
    },
    {
      "cell_type": "markdown",
      "metadata": {
        "id": "ySz_LKhvAtrA"
      },
      "source": [
        "**3.3 Experiment Duration**\n",
        "\n",
        "Now that we have the needed sample size, let's calculate the duration needed for the experiment, assuming we divert 50% of the traffic to this experiment.\n",
        "\n",
        "We do not want to divert all due to opportunity cost (i.e. udacity may want to perform other experiments) and risk (e.g. something may go wrong with experiment, enrollment might fall more than expected).\n"
      ]
    },
    {
      "cell_type": "code",
      "metadata": {
        "colab": {
          "base_uri": "https://localhost:8080/",
          "height": 294
        },
        "id": "garz0qGm1a42",
        "outputId": "6c58ddb2-f1ca-4c9f-a0d3-2c7df03d5c0c"
      },
      "source": [
        "#Gross conversion duration\n",
        "\n",
        "gc_dur = ab_df.loc['GC']['sample_size'] / (ab_df.loc['Page_views']['Value'] * 0.5) \n",
        "ret_dur = ab_df.loc['Retention']['sample_size'] / (ab_df.loc['Page_views']['Value'] * 0.5) \n",
        "nc_dur = ab_df.loc['NC']['sample_size'] / (ab_df.loc['Page_views']['Value'] * 0.5) \n",
        "\n",
        "ab_df['duration'] = [np.nan, np.nan, np.nan,np.nan,gc_dur, ret_dur, nc_dur]\n",
        "\n",
        "ab_df\n"
      ],
      "execution_count": 5,
      "outputs": [
        {
          "output_type": "execute_result",
          "data": {
            "text/html": [
              "<div>\n",
              "<style scoped>\n",
              "    .dataframe tbody tr th:only-of-type {\n",
              "        vertical-align: middle;\n",
              "    }\n",
              "\n",
              "    .dataframe tbody tr th {\n",
              "        vertical-align: top;\n",
              "    }\n",
              "\n",
              "    .dataframe thead th {\n",
              "        text-align: right;\n",
              "    }\n",
              "</style>\n",
              "<table border=\"1\" class=\"dataframe\">\n",
              "  <thead>\n",
              "    <tr style=\"text-align: right;\">\n",
              "      <th></th>\n",
              "      <th>Metric</th>\n",
              "      <th>Value</th>\n",
              "      <th>dmin</th>\n",
              "      <th>sample_size</th>\n",
              "      <th>duration</th>\n",
              "    </tr>\n",
              "    <tr>\n",
              "      <th>ab_metric</th>\n",
              "      <th></th>\n",
              "      <th></th>\n",
              "      <th></th>\n",
              "      <th></th>\n",
              "      <th></th>\n",
              "    </tr>\n",
              "  </thead>\n",
              "  <tbody>\n",
              "    <tr>\n",
              "      <th>Page_views</th>\n",
              "      <td>Course overview page views per day (unique coo...</td>\n",
              "      <td>40000.000000</td>\n",
              "      <td>3000.0000</td>\n",
              "      <td>NaN</td>\n",
              "      <td>NaN</td>\n",
              "    </tr>\n",
              "    <tr>\n",
              "      <th>Clicks</th>\n",
              "      <td>\"Start free trial\" clicks per day (unqiue cook...</td>\n",
              "      <td>3200.000000</td>\n",
              "      <td>50.0000</td>\n",
              "      <td>NaN</td>\n",
              "      <td>NaN</td>\n",
              "    </tr>\n",
              "    <tr>\n",
              "      <th>Enrollments</th>\n",
              "      <td>Enrollments per day</td>\n",
              "      <td>660.000000</td>\n",
              "      <td>240.0000</td>\n",
              "      <td>NaN</td>\n",
              "      <td>NaN</td>\n",
              "    </tr>\n",
              "    <tr>\n",
              "      <th>CTP</th>\n",
              "      <td>Click-through-probability on \"Start free trial\"</td>\n",
              "      <td>0.080000</td>\n",
              "      <td>0.0100</td>\n",
              "      <td>NaN</td>\n",
              "      <td>NaN</td>\n",
              "    </tr>\n",
              "    <tr>\n",
              "      <th>GC</th>\n",
              "      <td>Probability of enrolling, given click</td>\n",
              "      <td>0.206250</td>\n",
              "      <td>0.0100</td>\n",
              "      <td>645875.0</td>\n",
              "      <td>32.29375</td>\n",
              "    </tr>\n",
              "    <tr>\n",
              "      <th>Retention</th>\n",
              "      <td>Probability of payment, given enroll</td>\n",
              "      <td>0.530000</td>\n",
              "      <td>0.0100</td>\n",
              "      <td>4741212.0</td>\n",
              "      <td>237.06060</td>\n",
              "    </tr>\n",
              "    <tr>\n",
              "      <th>NC</th>\n",
              "      <td>Probability of payment, given click</td>\n",
              "      <td>0.109313</td>\n",
              "      <td>0.0075</td>\n",
              "      <td>685325.0</td>\n",
              "      <td>34.26625</td>\n",
              "    </tr>\n",
              "  </tbody>\n",
              "</table>\n",
              "</div>"
            ],
            "text/plain": [
              "                                                        Metric  ...   duration\n",
              "ab_metric                                                       ...           \n",
              "Page_views   Course overview page views per day (unique coo...  ...        NaN\n",
              "Clicks       \"Start free trial\" clicks per day (unqiue cook...  ...        NaN\n",
              "Enrollments                                Enrollments per day  ...        NaN\n",
              "CTP            Click-through-probability on \"Start free trial\"  ...        NaN\n",
              "GC                       Probability of enrolling, given click  ...   32.29375\n",
              "Retention                 Probability of payment, given enroll  ...  237.06060\n",
              "NC                         Probability of payment, given click  ...   34.26625\n",
              "\n",
              "[7 rows x 5 columns]"
            ]
          },
          "metadata": {
            "tags": []
          },
          "execution_count": 5
        }
      ]
    },
    {
      "cell_type": "markdown",
      "metadata": {
        "id": "C4lO8pcgdqy7"
      },
      "source": [
        "In order to get a statistically significant sample size with 50% traffic diverted, we have to run this experiment for 237 days, or 8 months! \n",
        "\n",
        "Since the duration is not realistic given opportunity cost, we will drop measuring retention. This should be fine since net conversion will tell us if there are any negative impacts to uesrs who are enrolled past the 14-day boundary."
      ]
    },
    {
      "cell_type": "markdown",
      "metadata": {
        "id": "jPVZGBBHg7Ez"
      },
      "source": [
        "## 4. Data Analysis\n",
        "\n",
        "**Sanity Checks**\n",
        "\n",
        "Now we'll bring in the experiment results data from Udacity. Before we analyze the control vs. experiment data, we'll do a few checks on th data and perform sanity checks using the invariant metrics previously defined.\n",
        "\n",
        "First, let's do some general data checks."
      ]
    },
    {
      "cell_type": "code",
      "metadata": {
        "colab": {
          "base_uri": "https://localhost:8080/"
        },
        "id": "xC_klRPFiL2I",
        "outputId": "38085ebe-a1f9-45fb-b48a-4f831500c19f"
      },
      "source": [
        "control_df= pd.read_csv(\"https://raw.githubusercontent.com/jounb/udacity_ab_test/main/Udacity%20AB%20Test%20Data/Final%20Project%20Results_Control.csv\")\n",
        "\n",
        "exp_df = pd.read_csv(\"https://raw.githubusercontent.com/jounb/udacity_ab_test/main/Udacity%20AB%20Test%20Data/Final%20Project%20Results_Exp.csv\")\n",
        "\n",
        "print(control_df.info(), exp_df.info())"
      ],
      "execution_count": 67,
      "outputs": [
        {
          "output_type": "stream",
          "text": [
            "<class 'pandas.core.frame.DataFrame'>\n",
            "RangeIndex: 39 entries, 0 to 38\n",
            "Data columns (total 5 columns):\n",
            " #   Column       Non-Null Count  Dtype  \n",
            "---  ------       --------------  -----  \n",
            " 0   Date         37 non-null     object \n",
            " 1   Pageviews    37 non-null     float64\n",
            " 2   Clicks       37 non-null     float64\n",
            " 3   Enrollments  23 non-null     float64\n",
            " 4   Payments     23 non-null     float64\n",
            "dtypes: float64(4), object(1)\n",
            "memory usage: 1.6+ KB\n",
            "<class 'pandas.core.frame.DataFrame'>\n",
            "RangeIndex: 37 entries, 0 to 36\n",
            "Data columns (total 5 columns):\n",
            " #   Column       Non-Null Count  Dtype  \n",
            "---  ------       --------------  -----  \n",
            " 0   Date         37 non-null     object \n",
            " 1   Pageviews    37 non-null     int64  \n",
            " 2   Clicks       37 non-null     int64  \n",
            " 3   Enrollments  23 non-null     float64\n",
            " 4   Payments     23 non-null     float64\n",
            "dtypes: float64(2), int64(2), object(1)\n",
            "memory usage: 1.6+ KB\n",
            "None None\n"
          ],
          "name": "stdout"
        }
      ]
    },
    {
      "cell_type": "code",
      "metadata": {
        "colab": {
          "base_uri": "https://localhost:8080/"
        },
        "id": "j85s48kp_ohy",
        "outputId": "52f0df0c-333a-4a06-d454-e426d02848fe"
      },
      "source": [
        "print(control_df.describe())\n",
        "print(exp_df.describe())"
      ],
      "execution_count": 70,
      "outputs": [
        {
          "output_type": "stream",
          "text": [
            "          Pageviews      Clicks  Enrollments    Payments\n",
            "count     37.000000   37.000000    23.000000   23.000000\n",
            "mean    9339.000000  766.972973   164.565217   88.391304\n",
            "std      740.239563   68.286767    29.977000   20.650202\n",
            "min     7434.000000  632.000000   110.000000   56.000000\n",
            "25%     8896.000000  708.000000   146.500000   70.000000\n",
            "50%     9420.000000  759.000000   162.000000   91.000000\n",
            "75%     9871.000000  825.000000   175.000000  102.500000\n",
            "max    10667.000000  909.000000   233.000000  128.000000\n",
            "          Pageviews      Clicks  Enrollments    Payments\n",
            "count     37.000000   37.000000    23.000000   23.000000\n",
            "mean    9315.135135  765.540541   148.826087   84.565217\n",
            "std      708.070781   64.578374    33.234227   23.060841\n",
            "min     7664.000000  642.000000    94.000000   34.000000\n",
            "25%     8881.000000  722.000000   127.000000   69.000000\n",
            "50%     9359.000000  770.000000   142.000000   91.000000\n",
            "75%     9737.000000  827.000000   172.000000   99.000000\n",
            "max    10551.000000  884.000000   213.000000  123.000000\n"
          ],
          "name": "stdout"
        }
      ]
    },
    {
      "cell_type": "markdown",
      "metadata": {
        "id": "GQxbQefki8c3"
      },
      "source": [
        "We see that the data provided by Udacity is likely directing 50% (or slightly less) of traffic given average page views of ~9000 for test and control, and the baseline daily pages of 40,000. The clicks are in line with baseline data as well.\n",
        "\n",
        "However, the provided data has a few issues.\n",
        "\n",
        "1.  There are 37 days of data and 14 NAs for Enrollments and Payments. The NAs for payments makes sense since there is a 14 day wait period, but enrollment data should be available for the full period. Potentially, the data only includes enrollments that stayed enrolled for 14 days, which is not what we need to measure gross conversion or retention.\n",
        "\n",
        "2. The needed sample size for gross conversion is 32 days, and net conversion is 34 days. We only have 23 days of data.\n",
        "\n",
        "At this point, the recommended next steps would be to 1) discuss with engineers on the availability and definition of enrollment data, and 2) wait 14 days to gather a sufficient sample size.\n",
        "\n",
        "However, since we do not have that option, we'll continue with the analysis and drop the NAs."
      ]
    },
    {
      "cell_type": "code",
      "metadata": {
        "colab": {
          "base_uri": "https://localhost:8080/"
        },
        "id": "_rWo7dIIDKi7",
        "outputId": "2d9ee57c-51ef-467a-f738-33dc24df74ea"
      },
      "source": [
        "print(control_df.isna().sum())\n",
        "print(exp_df.isna().sum())"
      ],
      "execution_count": 53,
      "outputs": [
        {
          "output_type": "stream",
          "text": [
            "Date            0\n",
            "Pageviews       0\n",
            "Clicks          0\n",
            "Enrollments    14\n",
            "Payments       14\n",
            "group           0\n",
            "dtype: int64\n",
            "Date            0\n",
            "Pageviews       0\n",
            "Clicks          0\n",
            "Enrollments    14\n",
            "Payments       14\n",
            "group           0\n",
            "dtype: int64\n"
          ],
          "name": "stdout"
        }
      ]
    },
    {
      "cell_type": "code",
      "metadata": {
        "colab": {
          "base_uri": "https://localhost:8080/"
        },
        "id": "fDCxunYlE2hJ",
        "outputId": "af997250-37f1-4127-dbcc-7db3e17c88c3"
      },
      "source": [
        "# drop na values in date, pageviews and clicks since they should have values.\n",
        "# NAs in  payments are expected, given 14 day period to measure if user remains enrolled\n",
        "exp_df=exp_df.dropna()\n",
        "control_df = control_df.dropna()\n",
        "print(control_df.isna().sum())"
      ],
      "execution_count": 54,
      "outputs": [
        {
          "output_type": "stream",
          "text": [
            "Date           0\n",
            "Pageviews      0\n",
            "Clicks         0\n",
            "Enrollments    0\n",
            "Payments       0\n",
            "group          0\n",
            "dtype: int64\n"
          ],
          "name": "stdout"
        }
      ]
    },
    {
      "cell_type": "markdown",
      "metadata": {
        "id": "Ejp5c-3uHawq"
      },
      "source": [
        "We'll perform t-tests on invariate metrics that are counts to ensure there are not significant differences. All p-values are greater than 0.05, thus we cannot reject the null hypothesis that the means are different. This passes our sanity check."
      ]
    },
    {
      "cell_type": "code",
      "metadata": {
        "colab": {
          "base_uri": "https://localhost:8080/"
        },
        "id": "PXM2Ue4EFj95",
        "outputId": "34b2109b-8569-46b7-beaa-633223e65aab"
      },
      "source": [
        "from scipy import stats\n",
        "\n",
        "print(stats.ttest_ind(control_df.Pageviews, exp_df.Pageviews))\n",
        "print(stats.ttest_ind(control_df.Clicks, exp_df.Clicks))\n",
        "print(stats.ttest_ind(control_df.Enrollments, exp_df.Enrollments, nan_policy='omit'))"
      ],
      "execution_count": 55,
      "outputs": [
        {
          "output_type": "stream",
          "text": [
            "Ttest_indResult(statistic=0.14289030617246118, pvalue=0.8870291739409888)\n",
            "Ttest_indResult(statistic=0.06598153974790888, pvalue=0.9476914165204888)\n",
            "Ttest_indResult(statistic=1.686512674290538, pvalue=0.09877614030153456)\n"
          ],
          "name": "stdout"
        }
      ]
    },
    {
      "cell_type": "markdown",
      "metadata": {
        "id": "FneI2KVQHqc6"
      },
      "source": [
        "For Click-through-probability, we'll perform a two-test proportions z test. \n",
        "\n",
        "With a p-value >0.05, we fail to reject our null hypothesis that the CTPs are different, thus passing the sanity check."
      ]
    },
    {
      "cell_type": "code",
      "metadata": {
        "colab": {
          "base_uri": "https://localhost:8080/"
        },
        "id": "P1dFVER0IESq",
        "outputId": "efbe3e2b-f43d-403f-82a5-3bcbd02b2e5c"
      },
      "source": [
        "from statsmodels.stats.proportion import proportions_ztest\n",
        "\n",
        "success = np.array([control_df.Clicks.sum(), exp_df.Clicks.sum()])\n",
        "sample = np.array([control_df.Pageviews.sum(),exp_df.Pageviews.sum()])\n",
        "\n",
        "proportions_ztest(count = success, nobs = sample, alternative='two-sided')\n"
      ],
      "execution_count": 56,
      "outputs": [
        {
          "output_type": "execute_result",
          "data": {
            "text/plain": [
              "(-0.1815932392462904, 0.855901954934631)"
            ]
          },
          "metadata": {
            "tags": []
          },
          "execution_count": 56
        }
      ]
    },
    {
      "cell_type": "markdown",
      "metadata": {
        "id": "E68XJoeHZDdY"
      },
      "source": [
        "**A/B Testing**\n",
        "\n",
        "To recap, we have two metrics we want to test for significant differences.\n",
        "\n",
        "* Gross conversion: (# of user-ids to enroll) / (# of \"Start free trial\" clicks)\n",
        "\n",
        "* Net conversion: (# of user-ids enrolled past 14-day boundary w/ payment) / (# of \"Start free trial\" clicks)\n",
        "\n",
        "The hypotheses we will be testing are:\n",
        "\n",
        "**1. Gross Conversion**\n",
        "\n",
        "* $H_0: \\mu_1 = \\mu_2$  -> Gross conversion is equal for users who recevied the new pop-up asking for time commitment vs. not\n",
        "\n",
        "* $H_1: \\mu_1 \\neq \\mu_2$  -> Gross conversion is not equal for users who received the new pop-up asking for time commitment vs. not\n",
        "\n",
        "**2. Net Conversion**\n",
        "\n",
        "* $H_0: \\mu_1 = \\mu_2$  -> Net conversion is equal for users who recevied the new pop-up asking for time commitment vs. not\n",
        "\n",
        "* $H_1: \\mu_1 \\neq \\mu_2$ -> Net conversion is not equal for users who received the new pop-up asking for time commitment vs. not"
      ]
    },
    {
      "cell_type": "markdown",
      "metadata": {
        "id": "GjA804opbTTw"
      },
      "source": [
        "Let's test our first hypothesis for gross conversion\n"
      ]
    },
    {
      "cell_type": "code",
      "metadata": {
        "colab": {
          "base_uri": "https://localhost:8080/"
        },
        "id": "4cSKjNfKbbhY",
        "outputId": "063ccde6-c104-4574-adc3-13c40c036953"
      },
      "source": [
        "# GC: (# of user-ids to enroll) / (# of \"Start free trial\" clicks)\n",
        "\n",
        "gc_success = np.array([control_df.Enrollments.sum(),exp_df.Enrollments.sum() ])\n",
        "gc_sample = np.array([control_df.Clicks.sum(), exp_df.Clicks.sum()])\n",
        "\n",
        "\n",
        "print(proportions_ztest(count = gc_success, nobs = gc_sample, alternative='two-sided'))"
      ],
      "execution_count": 57,
      "outputs": [
        {
          "output_type": "stream",
          "text": [
            "(4.701830023753982, 2.578401033720593e-06)\n"
          ],
          "name": "stdout"
        }
      ]
    },
    {
      "cell_type": "markdown",
      "metadata": {
        "id": "oNFb_iYBiW2q"
      },
      "source": [
        "At a p-value < 0.05, we reject our null hypothesis. The gross conversion for the control group is 0.0206 higher than experiment (CI: 0.0120 to 0.0291). The results are also pratically significant since the confidence interval does not include the dmin of 0.01.\n"
      ]
    },
    {
      "cell_type": "code",
      "metadata": {
        "colab": {
          "base_uri": "https://localhost:8080/"
        },
        "id": "6Yp3yjuBikTx",
        "outputId": "6c9e1be7-9e4f-4905-b426-fcb965ebf749"
      },
      "source": [
        "control_gc = control_df.Enrollments.sum() / control_df.Clicks.sum()\n",
        "exp_gc = exp_df.Enrollments.sum() / exp_df.Clicks.sum()\n",
        "control_n = control_df.Clicks.sum()\n",
        "exp_n = exp_df.Clicks.sum()\n",
        "prop_diff = exp_gc - control_gc\n",
        "\n",
        "pool_std_err = math.sqrt(control_gc*(1-control_gc)/control_n + exp_gc*(1-exp_gc)/exp_n)\n",
        "margin_err = 1.96 * pool_std_err\n",
        "upper_lim = prop_diff + margin_err\n",
        "lower_lim = prop_diff - margin_err\n",
        "\n",
        "print(prop_diff, lower_lim, upper_lim)"
      ],
      "execution_count": 63,
      "outputs": [
        {
          "output_type": "stream",
          "text": [
            "-0.020554874580361565 -0.029120319808048547 -0.011989429352674583\n"
          ],
          "name": "stdout"
        }
      ]
    },
    {
      "cell_type": "code",
      "metadata": {
        "colab": {
          "base_uri": "https://localhost:8080/"
        },
        "id": "_2SpWJaOhxoh",
        "outputId": "dbf19d2d-cb7c-4e7a-adba-56c91b6db2c9"
      },
      "source": [
        "# Net conversion: (# of user-ids enrolled past 14-day boundary w/ payment) / (# of \"Start free trial\" clicks)\n",
        "\n",
        "nc_success = np.array([control_df.Payments.sum(),exp_df.Payments.sum() ])\n",
        "nc_sample = np.array([control_df.Clicks.sum(), exp_df.Clicks.sum()])\n",
        "\n",
        "print(proportions_ztest(count = nc_success, nobs = nc_sample, alternative='two-sided'))"
      ],
      "execution_count": 64,
      "outputs": [
        {
          "output_type": "stream",
          "text": [
            "(1.4192001144365733, 0.15584068262150205)\n"
          ],
          "name": "stdout"
        }
      ]
    },
    {
      "cell_type": "markdown",
      "metadata": {
        "id": "2iBHgNHDrJgE"
      },
      "source": [
        "At a p-value > 0.05, we fail to reject our null hypothesis. The gross conversion for users who received the pop-up vs not were not different at a statistically significant level (CI: -0.0019 to 0.0116). \n",
        "\n",
        "These results are in line with the hypothesis that users who ultimately stay on will not change based on the additional pop-up to check time commitment. \n",
        "\n",
        "However, although not significantly different, the measured proportion difference is lower for the experiment group."
      ]
    },
    {
      "cell_type": "code",
      "metadata": {
        "colab": {
          "base_uri": "https://localhost:8080/"
        },
        "id": "ZGjs9uAqqaf8",
        "outputId": "045a7e33-c752-41ac-c8c8-97e28751205d"
      },
      "source": [
        "control_nc = control_df.Payments.sum() / control_df.Clicks.sum()\n",
        "exp_nc = exp_df.Payments.sum() / exp_df.Clicks.sum()\n",
        "control_n = control_df.Clicks.sum()\n",
        "exp_n = exp_df.Clicks.sum()\n",
        "nc_diff = exp_nc - control_nc\n",
        "\n",
        "pool_std_err_nc = math.sqrt(control_nc*(1-control_nc)/control_n + exp_nc*(1-exp_nc)/exp_n)\n",
        "margin_err_nc = 1.96 * pool_std_err_nc\n",
        "lower_lim_nc = nc_diff - margin_err_nc\n",
        "upper_lim_nc = nc_diff + margin_err_nc\n",
        "\n",
        "print(nc_diff, lower_lim_nc, upper_lim_nc, margin_err_nc)"
      ],
      "execution_count": 65,
      "outputs": [
        {
          "output_type": "stream",
          "text": [
            "-0.0048737226745441675 -0.011604309812387078 0.0018568644632987437 0.006730587137842911\n"
          ],
          "name": "stdout"
        }
      ]
    },
    {
      "cell_type": "markdown",
      "metadata": {
        "id": "ErZReIECCLaJ"
      },
      "source": [
        "## 5. Summary and Recommendations\n",
        "\n",
        "The initial read out of the data is promising:\n",
        "\n",
        "* Gross conversion: At a p-value < 0.05, we reject our null hypothesis. The gross conversion for experiment group is lower than control group at a statistically and practically significant level. \n",
        "\n",
        "* Net conversion: At a p-value > 0.05, we fail to reject our null hypothesis. While the difference is not statistically significant, the net conversion for the experiment group was lower than the control group.\n",
        "\n",
        "These results are in line with our hypothesis that showing the pop up will reduce the  of users who enroll, while not impacting users who ultimately stay. \n",
        "\n",
        "Based on the initial results, the recommendations are the following:\n",
        "\n",
        "1. Confirm enrollment data, and wait 14 more days and rerun the analysis\n",
        "\n",
        "2. Run more experiments that may lead to better outcomes. Users who sign up for the free trial period and drop before 14 days, does not necessarily mean they were frustrated with lack of time. \n",
        "\n",
        "Potential experiments:\n",
        "* Instead of a pop up, test disclaimer under \"start new trial\" that indicates recommended time commitment. This may better set expectations, while not potentially negatively impacting enrollment rate.\n",
        "\n",
        "* Once user is enrolled and inactive, test notifications/verbiage that remindes users to commit more time (\"e.g. you've spent 2 hours this week on X vs. recommended time of Y. Continue course now\"). This may increase net conversion/retention.\n",
        "\n",
        "\n",
        "\n",
        "\n"
      ]
    }
  ]
}